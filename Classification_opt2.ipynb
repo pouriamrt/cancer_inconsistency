{
 "cells": [
  {
   "cell_type": "code",
   "execution_count": 2,
   "id": "77071c0a",
   "metadata": {},
   "outputs": [],
   "source": [
    "import networkx as nx\n",
    "import pandas as pd\n",
    "import matplotlib.pyplot as plt\n",
    "import numpy as np\n",
    "import re\n",
    "import spacy\n",
    "import textacy\n",
    "import networkx as nx\n",
    "import matplotlib.pyplot as plt\n",
    "import seaborn as sns\n",
    "import pickle as pkl\n",
    "import stellargraph as sg\n",
    "import tensorflow as tf\n",
    "from stellargraph.data import BiasedRandomWalk\n",
    "from gensim.models import Word2Vec\n",
    "from sklearn.naive_bayes import GaussianNB\n",
    "from sklearn.tree import DecisionTreeClassifier\n",
    "from sklearn.metrics import accuracy_score, confusion_matrix, ConfusionMatrixDisplay, f1_score\n",
    "from sklearn.model_selection import train_test_split\n",
    "from sklearn.manifold import TSNE\n",
    "from sklearn.decomposition import PCA\n",
    "from stellargraph import datasets\n",
    "from IPython.display import display, HTML\n",
    "from sklearn.cluster import KMeans\n",
    "from scipy import stats\n",
    "from sklearn.preprocessing import LabelEncoder\n",
    "from sklearn.svm import LinearSVC"
   ]
  },
  {
   "cell_type": "code",
   "execution_count": 3,
   "id": "a7aed9f2",
   "metadata": {},
   "outputs": [
    {
     "data": {
      "text/html": [
       "<div>\n",
       "<style scoped>\n",
       "    .dataframe tbody tr th:only-of-type {\n",
       "        vertical-align: middle;\n",
       "    }\n",
       "\n",
       "    .dataframe tbody tr th {\n",
       "        vertical-align: top;\n",
       "    }\n",
       "\n",
       "    .dataframe thead th {\n",
       "        text-align: right;\n",
       "    }\n",
       "</style>\n",
       "<table border=\"1\" class=\"dataframe\">\n",
       "  <thead>\n",
       "    <tr style=\"text-align: right;\">\n",
       "      <th></th>\n",
       "      <th>0</th>\n",
       "      <th>a</th>\n",
       "    </tr>\n",
       "  </thead>\n",
       "  <tbody>\n",
       "    <tr>\n",
       "      <th>0</th>\n",
       "      <td>Thyroid_Cancer</td>\n",
       "      <td>Thyroid surgery in  children in a single insti...</td>\n",
       "    </tr>\n",
       "    <tr>\n",
       "      <th>1</th>\n",
       "      <td>Thyroid_Cancer</td>\n",
       "      <td>\" The adopted strategy was the same as that us...</td>\n",
       "    </tr>\n",
       "    <tr>\n",
       "      <th>2</th>\n",
       "      <td>Thyroid_Cancer</td>\n",
       "      <td>coronary arterybypass grafting thrombosis ï¬b...</td>\n",
       "    </tr>\n",
       "    <tr>\n",
       "      <th>3</th>\n",
       "      <td>Thyroid_Cancer</td>\n",
       "      <td>Solitary plasmacytoma SP of the skull is an u...</td>\n",
       "    </tr>\n",
       "    <tr>\n",
       "      <th>4</th>\n",
       "      <td>Thyroid_Cancer</td>\n",
       "      <td>This study aimed to investigate serum matrix ...</td>\n",
       "    </tr>\n",
       "  </tbody>\n",
       "</table>\n",
       "</div>"
      ],
      "text/plain": [
       "                0                                                  a\n",
       "0  Thyroid_Cancer  Thyroid surgery in  children in a single insti...\n",
       "1  Thyroid_Cancer  \" The adopted strategy was the same as that us...\n",
       "2  Thyroid_Cancer  coronary arterybypass grafting thrombosis ï¬b...\n",
       "3  Thyroid_Cancer   Solitary plasmacytoma SP of the skull is an u...\n",
       "4  Thyroid_Cancer   This study aimed to investigate serum matrix ..."
      ]
     },
     "execution_count": 3,
     "metadata": {},
     "output_type": "execute_result"
    }
   ],
   "source": [
    "df0 = pd.read_csv(\"Data/cancer_dataset.csv\", encoding='latin1', index_col=0)\n",
    "df = df0[\"a\"]\n",
    "df0.head()"
   ]
  },
  {
   "cell_type": "code",
   "execution_count": 4,
   "id": "cd413201",
   "metadata": {},
   "outputs": [
    {
     "data": {
      "text/plain": [
       "{0, 1, 2}"
      ]
     },
     "execution_count": 4,
     "metadata": {},
     "output_type": "execute_result"
    }
   ],
   "source": [
    "label_encoder = LabelEncoder()\n",
    "labels = label_encoder.fit_transform(df0['0'])\n",
    "set(labels)"
   ]
  },
  {
   "cell_type": "code",
   "execution_count": 5,
   "id": "5e458c5f",
   "metadata": {},
   "outputs": [],
   "source": [
    "#"
   ]
  },
  {
   "cell_type": "code",
   "execution_count": 6,
   "id": "ac806ee0",
   "metadata": {},
   "outputs": [],
   "source": [
    "with open(\"Data/topics_clf.pickle\", \"rb\") as f:\n",
    "    topics = pkl.load(f)\n",
    "topics = np.array(topics)"
   ]
  },
  {
   "cell_type": "code",
   "execution_count": 7,
   "id": "5fd6c887",
   "metadata": {},
   "outputs": [
    {
     "data": {
      "text/plain": [
       "array([168, 221,  97, ...,  59, 107,   2])"
      ]
     },
     "execution_count": 7,
     "metadata": {},
     "output_type": "execute_result"
    }
   ],
   "source": [
    "topics"
   ]
  },
  {
   "cell_type": "code",
   "execution_count": 8,
   "id": "89e60a69",
   "metadata": {},
   "outputs": [],
   "source": [
    "d = {}\n",
    "for t in set(topics):\n",
    "    d[t] = []\n",
    "for i, t in enumerate(topics):\n",
    "    d[t].append(i)"
   ]
  },
  {
   "cell_type": "code",
   "execution_count": 9,
   "id": "628bc193",
   "metadata": {},
   "outputs": [],
   "source": [
    "labels_in_clusters = []\n",
    "most_common_label_in_clusters = {}\n",
    "for k in d:\n",
    "    #if k != -1:\n",
    "    labels_in_clusters.append([labels[i] for i in d[k]])\n",
    "    most_common_label_in_clusters[k] = np.argmax(np.bincount(labels_in_clusters[-1]))"
   ]
  },
  {
   "cell_type": "code",
   "execution_count": 10,
   "id": "7a53bdb3",
   "metadata": {},
   "outputs": [],
   "source": [
    "topics_mapped = [most_common_label_in_clusters[topic] for topic in topics]"
   ]
  },
  {
   "cell_type": "code",
   "execution_count": 11,
   "id": "cbc9a96c",
   "metadata": {},
   "outputs": [],
   "source": [
    "#"
   ]
  },
  {
   "cell_type": "code",
   "execution_count": 12,
   "id": "e69d6b42",
   "metadata": {},
   "outputs": [
    {
     "data": {
      "image/png": "[encoded data removed]",
      "text/plain": [
       "<Figure size 640x480 with 2 Axes>"
      ]
     },
     "metadata": {},
     "output_type": "display_data"
    }
   ],
   "source": [
    "fig, ax = plt.subplots(2, 1)\n",
    "ax[0].bar([0, 1, 2], np.bincount((topics_mapped)))\n",
    "ax[1].bar([0, 1, 2], np.bincount(labels))\n",
    "plt.show()"
   ]
  },
  {
   "cell_type": "code",
   "execution_count": 13,
   "id": "ba81ae0f",
   "metadata": {},
   "outputs": [],
   "source": [
    "#"
   ]
  },
  {
   "cell_type": "code",
   "execution_count": 14,
   "id": "bcc4b123",
   "metadata": {},
   "outputs": [],
   "source": [
    "with open(\"Data/graphs.pkl\", \"rb\") as f:\n",
    "    Gs = pkl.load(f)\n",
    "\n",
    "GG = nx.disjoint_union_all(Gs)"
   ]
  },
  {
   "cell_type": "code",
   "execution_count": 15,
   "id": "b9110742",
   "metadata": {},
   "outputs": [],
   "source": [
    "with open(\"Data/combined_graphed.pkl\", \"rb\") as f:\n",
    "    node_vectors_list_cmb = pkl.load(f)\n",
    "word_vec_dict = {}\n",
    "for i, node in enumerate(list(GG.nodes)):\n",
    "    word_vec_dict[node] = node_vectors_list_cmb[0][i]\n",
    "\n",
    "with open(\"Data/individual_graphed.pkl\", \"rb\") as f:\n",
    "    node_vectors_list_ind = pkl.load(f)"
   ]
  },
  {
   "cell_type": "code",
   "execution_count": 16,
   "id": "b2f341a2",
   "metadata": {},
   "outputs": [],
   "source": [
    "len_each_graph = [len(i) for i in node_vectors_list_ind]\n",
    "\n",
    "vec_list = np.array(node_vectors_list_cmb[0])"
   ]
  },
  {
   "cell_type": "code",
   "execution_count": 17,
   "id": "bd8d49b2",
   "metadata": {},
   "outputs": [],
   "source": [
    "labels_extended = []\n",
    "for i, l in enumerate(len_each_graph):\n",
    "    labels_extended.extend([labels[i]]*l)"
   ]
  },
  {
   "cell_type": "code",
   "execution_count": null,
   "id": "9fccdcaf",
   "metadata": {},
   "outputs": [],
   "source": []
  },
  {
   "cell_type": "code",
   "execution_count": 18,
   "id": "e8e184b6",
   "metadata": {},
   "outputs": [
    {
     "name": "stdout",
     "output_type": "stream",
     "text": [
      "Accuracy: 0.4095112285336856\n",
      "F1 Score: 0.48479871972121086\n"
     ]
    }
   ],
   "source": [
    "# Classification on whole data\n",
    "model = GaussianNB()\n",
    "model.fit(vec_list, labels_extended)\n",
    "\n",
    "y_pred = model.predict(vec_list)\n",
    "\n",
    "y_pred_reduced = []\n",
    "cumsum_len_each_graph = np.cumsum(len_each_graph)\n",
    "for i in range(len(cumsum_len_each_graph)):\n",
    "    if i==0:\n",
    "        y_pred_reduced.append(np.argmax(np.bincount(y_pred[:cumsum_len_each_graph[i]])))\n",
    "    else:\n",
    "        y_pred_reduced.append(np.argmax(np.bincount(y_pred[cumsum_len_each_graph[i-1]:cumsum_len_each_graph[i]])))\n",
    "\n",
    "accuray = accuracy_score(y_pred_reduced, labels)\n",
    "f1 = f1_score(y_pred_reduced, labels, average=\"weighted\")\n",
    "\n",
    "print(\"Accuracy:\", accuray)\n",
    "print(\"F1 Score:\", f1)"
   ]
  },
  {
   "cell_type": "code",
   "execution_count": null,
   "id": "ef59c91b",
   "metadata": {},
   "outputs": [],
   "source": []
  },
  {
   "cell_type": "code",
   "execution_count": 19,
   "id": "c4698bb3",
   "metadata": {},
   "outputs": [
    {
     "name": "stdout",
     "output_type": "stream",
     "text": [
      "Accuracy: 0.4813346940527972\n",
      "F1 Score: 0.5290823942593854\n"
     ]
    }
   ],
   "source": [
    "X_train, X_test, y_train, y_test = train_test_split(\n",
    "    vec_list, labels_extended, test_size=0.3\n",
    ")\n",
    "\n",
    "# Classification\n",
    "model = GaussianNB()\n",
    "model.fit(X_train, y_train)\n",
    "\n",
    "y_pred = model.predict(X_test)\n",
    "accuray = accuracy_score(y_pred, y_test)\n",
    "f1 = f1_score(y_pred, y_test, average=\"weighted\")\n",
    "\n",
    "print(\"Accuracy:\", accuray)\n",
    "print(\"F1 Score:\", f1)"
   ]
  },
  {
   "cell_type": "code",
   "execution_count": 33,
   "id": "6bf83944",
   "metadata": {},
   "outputs": [],
   "source": [
    "y_pred = model.predict(vec_list)"
   ]
  },
  {
   "cell_type": "code",
   "execution_count": 20,
   "id": "836091d2",
   "metadata": {},
   "outputs": [],
   "source": [
    "#"
   ]
  },
  {
   "cell_type": "code",
   "execution_count": 21,
   "id": "0a343d5c",
   "metadata": {},
   "outputs": [],
   "source": [
    "def linear_assignment(cost_matrix):\n",
    "    try:\n",
    "        import lap\n",
    "        _, x, y = lap.lapjv(cost_matrix, extend_cost=True)\n",
    "        return np.array([[y[i], i] for i in x if i >= 0])\n",
    "    except ImportError:\n",
    "        from scipy.optimize import linear_sum_assignment\n",
    "        x, y = linear_sum_assignment(cost_matrix)\n",
    "        return np.array(list(zip(x, y)))\n",
    "\n",
    "def map_labels(true_labels, pred_labels, cluster_no):\n",
    "    true_labels = np.array(true_labels)\n",
    "    pred_labels = np.array(pred_labels)\n",
    "    cost_matrix = np.zeros((cluster_no, cluster_no))\n",
    "    for i in range(cluster_no):\n",
    "        for j in range(cluster_no):\n",
    "            cost_matrix[i][j] = np.sum((true_labels == i) & (pred_labels == j))\n",
    "    \n",
    "    mapping = linear_assignment(-cost_matrix)[:, 1]\n",
    "    d = {}\n",
    "    for i, j in enumerate(mapping):\n",
    "        d[i] = j\n",
    "    return d"
   ]
  },
  {
   "cell_type": "code",
   "execution_count": 22,
   "id": "bf80a808",
   "metadata": {},
   "outputs": [],
   "source": [
    "topics_extended = []\n",
    "for i, l in enumerate(len_each_graph):\n",
    "    topics_extended.extend([topics_mapped[i]]*l)"
   ]
  },
  {
   "cell_type": "code",
   "execution_count": 39,
   "id": "972871a1",
   "metadata": {},
   "outputs": [
    {
     "data": {
      "text/plain": [
       "1009270"
      ]
     },
     "execution_count": 39,
     "metadata": {},
     "output_type": "execute_result"
    }
   ],
   "source": [
    "len(vec_list)"
   ]
  },
  {
   "cell_type": "code",
   "execution_count": 45,
   "id": "612138d0",
   "metadata": {},
   "outputs": [],
   "source": [
    "#differences_index = []\n",
    "#for i, l in enumerate(labels_extended):\n",
    "#    if l != topics_extended[i]:\n",
    "#        differences_index.append(i)\n",
    "#len(differences_index)"
   ]
  },
  {
   "cell_type": "code",
   "execution_count": 46,
   "id": "84782a72",
   "metadata": {},
   "outputs": [
    {
     "data": {
      "text/plain": [
       "519149"
      ]
     },
     "execution_count": 46,
     "metadata": {},
     "output_type": "execute_result"
    }
   ],
   "source": [
    "differences_index = []\n",
    "for i, l in enumerate(y_pred):\n",
    "    if l != topics_extended[i]:\n",
    "        differences_index.append(i)\n",
    "len(differences_index)"
   ]
  },
  {
   "cell_type": "code",
   "execution_count": 47,
   "id": "26b88663",
   "metadata": {},
   "outputs": [],
   "source": [
    "vec_list_reduced = np.delete(vec_list, differences_index, axis=0)\n",
    "bert_reduced = np.delete(topics_extended, differences_index)\n",
    "labels_extended_reduced = np.delete(labels_extended, differences_index)"
   ]
  },
  {
   "cell_type": "code",
   "execution_count": 48,
   "id": "0315388f",
   "metadata": {},
   "outputs": [],
   "source": [
    "X_train_r, X_test_r, y_train_r, y_test_r = train_test_split(\n",
    "    vec_list_reduced, labels_extended_reduced, test_size=0.3\n",
    ")"
   ]
  },
  {
   "cell_type": "code",
   "execution_count": 49,
   "id": "69cae95c",
   "metadata": {},
   "outputs": [
    {
     "data": {
      "text/html": [
       "<style>#sk-container-id-4 {color: black;background-color: white;}#sk-container-id-4 pre{padding: 0;}#sk-container-id-4 div.sk-toggleable {background-color: white;}#sk-container-id-4 label.sk-toggleable__label {cursor: pointer;display: block;width: 100%;margin-bottom: 0;padding: 0.3em;box-sizing: border-box;text-align: center;}#sk-container-id-4 label.sk-toggleable__label-arrow:before {content: \"▸\";float: left;margin-right: 0.25em;color: #696969;}#sk-container-id-4 label.sk-toggleable__label-arrow:hover:before {color: black;}#sk-container-id-4 div.sk-estimator:hover label.sk-toggleable__label-arrow:before {color: black;}#sk-container-id-4 div.sk-toggleable__content {max-height: 0;max-width: 0;overflow: hidden;text-align: left;background-color: #f0f8ff;}#sk-container-id-4 div.sk-toggleable__content pre {margin: 0.2em;color: black;border-radius: 0.25em;background-color: #f0f8ff;}#sk-container-id-4 input.sk-toggleable__control:checked~div.sk-toggleable__content {max-height: 200px;max-width: 100%;overflow: auto;}#sk-container-id-4 input.sk-toggleable__control:checked~label.sk-toggleable__label-arrow:before {content: \"▾\";}#sk-container-id-4 div.sk-estimator input.sk-toggleable__control:checked~label.sk-toggleable__label {background-color: #d4ebff;}#sk-container-id-4 div.sk-label input.sk-toggleable__control:checked~label.sk-toggleable__label {background-color: #d4ebff;}#sk-container-id-4 input.sk-hidden--visually {border: 0;clip: rect(1px 1px 1px 1px);clip: rect(1px, 1px, 1px, 1px);height: 1px;margin: -1px;overflow: hidden;padding: 0;position: absolute;width: 1px;}#sk-container-id-4 div.sk-estimator {font-family: monospace;background-color: #f0f8ff;border: 1px dotted black;border-radius: 0.25em;box-sizing: border-box;margin-bottom: 0.5em;}#sk-container-id-4 div.sk-estimator:hover {background-color: #d4ebff;}#sk-container-id-4 div.sk-parallel-item::after {content: \"\";width: 100%;border-bottom: 1px solid gray;flex-grow: 1;}#sk-container-id-4 div.sk-label:hover label.sk-toggleable__label {background-color: #d4ebff;}#sk-container-id-4 div.sk-serial::before {content: \"\";position: absolute;border-left: 1px solid gray;box-sizing: border-box;top: 0;bottom: 0;left: 50%;z-index: 0;}#sk-container-id-4 div.sk-serial {display: flex;flex-direction: column;align-items: center;background-color: white;padding-right: 0.2em;padding-left: 0.2em;position: relative;}#sk-container-id-4 div.sk-item {position: relative;z-index: 1;}#sk-container-id-4 div.sk-parallel {display: flex;align-items: stretch;justify-content: center;background-color: white;position: relative;}#sk-container-id-4 div.sk-item::before, #sk-container-id-4 div.sk-parallel-item::before {content: \"\";position: absolute;border-left: 1px solid gray;box-sizing: border-box;top: 0;bottom: 0;left: 50%;z-index: -1;}#sk-container-id-4 div.sk-parallel-item {display: flex;flex-direction: column;z-index: 1;position: relative;background-color: white;}#sk-container-id-4 div.sk-parallel-item:first-child::after {align-self: flex-end;width: 50%;}#sk-container-id-4 div.sk-parallel-item:last-child::after {align-self: flex-start;width: 50%;}#sk-container-id-4 div.sk-parallel-item:only-child::after {width: 0;}#sk-container-id-4 div.sk-dashed-wrapped {border: 1px dashed gray;margin: 0 0.4em 0.5em 0.4em;box-sizing: border-box;padding-bottom: 0.4em;background-color: white;}#sk-container-id-4 div.sk-label label {font-family: monospace;font-weight: bold;display: inline-block;line-height: 1.2em;}#sk-container-id-4 div.sk-label-container {text-align: center;}#sk-container-id-4 div.sk-container {/* jupyter's `normalize.less` sets `[hidden] { display: none; }` but bootstrap.min.css set `[hidden] { display: none !important; }` so we also need the `!important` here to be able to override the default hidden behavior on the sphinx rendered scikit-learn.org. See: https://github.com/scikit-learn/scikit-learn/issues/21755 */display: inline-block !important;position: relative;}#sk-container-id-4 div.sk-text-repr-fallback {display: none;}</style><div id=\"sk-container-id-4\" class=\"sk-top-container\"><div class=\"sk-text-repr-fallback\"><pre>GaussianNB()</pre><b>In a Jupyter environment, please rerun this cell to show the HTML representation or trust the notebook. <br />On GitHub, the HTML representation is unable to render, please try loading this page with nbviewer.org.</b></div><div class=\"sk-container\" hidden><div class=\"sk-item\"><div class=\"sk-estimator sk-toggleable\"><input class=\"sk-toggleable__control sk-hidden--visually\" id=\"sk-estimator-id-4\" type=\"checkbox\" checked><label for=\"sk-estimator-id-4\" class=\"sk-toggleable__label sk-toggleable__label-arrow\">GaussianNB</label><div class=\"sk-toggleable__content\"><pre>GaussianNB()</pre></div></div></div></div></div>"
      ],
      "text/plain": [
       "GaussianNB()"
      ]
     },
     "execution_count": 49,
     "metadata": {},
     "output_type": "execute_result"
    }
   ],
   "source": [
    "model_r = GaussianNB()\n",
    "model_r.fit(X_train_r, y_train_r)"
   ]
  },
  {
   "cell_type": "code",
   "execution_count": 50,
   "id": "3ab8e7d5",
   "metadata": {},
   "outputs": [
    {
     "name": "stdout",
     "output_type": "stream",
     "text": [
      "Accuracy: 0.6981916116351666\n",
      "F1 Score: 0.7176068782665759\n"
     ]
    }
   ],
   "source": [
    "y_pred_r = model_r.predict(X_test_r)\n",
    "accuray = accuracy_score(y_pred_r, y_test_r)\n",
    "f1 = f1_score(y_pred_r, y_test_r, average=\"weighted\")\n",
    "\n",
    "print(\"Accuracy:\", accuray)\n",
    "print(\"F1 Score:\", f1)"
   ]
  },
  {
   "cell_type": "code",
   "execution_count": 28,
   "id": "aeedc55e",
   "metadata": {},
   "outputs": [],
   "source": [
    "# Approach 2"
   ]
  },
  {
   "cell_type": "code",
   "execution_count": null,
   "id": "f8a22b34",
   "metadata": {},
   "outputs": [],
   "source": []
  }
 ],
 "metadata": {
  "kernelspec": {
   "display_name": "Python 3 (ipykernel)",
   "language": "python",
   "name": "python3"
  },
  "language_info": {
   "codemirror_mode": {
    "name": "ipython",
    "version": 3
   },
   "file_extension": ".py",
   "mimetype": "text/x-python",
   "name": "python",
   "nbconvert_exporter": "python",
   "pygments_lexer": "ipython3",
   "version": "3.9.7"
  }
 },
 "nbformat": 4,
 "nbformat_minor": 5
}
