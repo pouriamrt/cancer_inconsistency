{
 "cells": [
  {
   "cell_type": "code",
   "execution_count": 2,
   "id": "f15fb83f",
   "metadata": {},
   "outputs": [],
   "source": [
    "import pickle as pkl\n",
    "import pandas as pd\n",
    "import matplotlib.pyplot as plt\n",
    "import numpy as np\n",
    "from sklearn.preprocessing import LabelEncoder\n",
    "from surprise import Dataset, NormalPredictor, Reader, SVD\n",
    "from surprise.model_selection import cross_validate\n",
    "from surprise.model_selection import train_test_split\n",
    "import networkx as nx\n",
    "import pandas as pd\n",
    "import matplotlib.pyplot as plt\n",
    "import numpy as np\n",
    "import re\n",
    "import spacy\n",
    "import textacy\n",
    "import networkx as nx\n",
    "import matplotlib.pyplot as plt\n",
    "import seaborn as sns\n",
    "import pickle as pkl\n",
    "import stellargraph as sg\n",
    "import tensorflow as tf\n",
    "from stellargraph.data import BiasedRandomWalk\n",
    "from gensim.models import Word2Vec\n",
    "from sklearn.naive_bayes import GaussianNB\n",
    "from sklearn.tree import DecisionTreeClassifier\n",
    "from sklearn.metrics import accuracy_score, confusion_matrix, ConfusionMatrixDisplay, f1_score\n",
    "from sklearn.model_selection import train_test_split\n",
    "from sklearn.manifold import TSNE\n",
    "from sklearn.decomposition import PCA\n",
    "from stellargraph import datasets\n",
    "from IPython.display import display, HTML\n",
    "from sklearn.cluster import KMeans\n",
    "from scipy import stats\n",
    "from sklearn.preprocessing import LabelEncoder\n",
    "from sklearn.svm import LinearSVC\n",
    "from scipy import stats\n",
    "from sklearn.metrics import roc_curve, auc\n",
    "from random import sample"
   ]
  },
  {
   "cell_type": "code",
   "execution_count": 7,
   "id": "85a7050c",
   "metadata": {},
   "outputs": [
    {
     "data": {
      "text/plain": [
       "{0, 1, 2}"
      ]
     },
     "execution_count": 7,
     "metadata": {},
     "output_type": "execute_result"
    }
   ],
   "source": [
    "df0 = pd.read_csv(\"Data/cancer_dataset.csv\", encoding='latin1', index_col=0)\n",
    "df = df0[\"a\"]\n",
    "\n",
    "label_encoder = LabelEncoder()\n",
    "labels = label_encoder.fit_transform(df0['0'])\n",
    "set(labels)"
   ]
  },
  {
   "cell_type": "code",
   "execution_count": 8,
   "id": "5c0d139d",
   "metadata": {},
   "outputs": [],
   "source": [
    "with open(\"Data/topics_clf.pickle\", \"rb\") as f:\n",
    "    topics = pkl.load(f)\n",
    "topics = np.array(topics)"
   ]
  },
  {
   "cell_type": "code",
   "execution_count": 9,
   "id": "33a64c48",
   "metadata": {},
   "outputs": [
    {
     "data": {
      "text/plain": [
       "278"
      ]
     },
     "execution_count": 9,
     "metadata": {},
     "output_type": "execute_result"
    }
   ],
   "source": [
    "max(topics)"
   ]
  },
  {
   "cell_type": "code",
   "execution_count": 10,
   "id": "c3fca196",
   "metadata": {},
   "outputs": [],
   "source": [
    "#"
   ]
  },
  {
   "cell_type": "code",
   "execution_count": 11,
   "id": "4e8dc9ba",
   "metadata": {},
   "outputs": [
    {
     "data": {
      "text/html": [
       "<div>\n",
       "<style scoped>\n",
       "    .dataframe tbody tr th:only-of-type {\n",
       "        vertical-align: middle;\n",
       "    }\n",
       "\n",
       "    .dataframe tbody tr th {\n",
       "        vertical-align: top;\n",
       "    }\n",
       "\n",
       "    .dataframe thead th {\n",
       "        text-align: right;\n",
       "    }\n",
       "</style>\n",
       "<table border=\"1\" class=\"dataframe\">\n",
       "  <thead>\n",
       "    <tr style=\"text-align: right;\">\n",
       "      <th></th>\n",
       "      <th>itemID</th>\n",
       "      <th>userID</th>\n",
       "      <th>rating</th>\n",
       "    </tr>\n",
       "  </thead>\n",
       "  <tbody>\n",
       "    <tr>\n",
       "      <th>0</th>\n",
       "      <td>Thyroid surgery in  children in a single insti...</td>\n",
       "      <td>168</td>\n",
       "      <td>2</td>\n",
       "    </tr>\n",
       "    <tr>\n",
       "      <th>1</th>\n",
       "      <td>\" The adopted strategy was the same as that us...</td>\n",
       "      <td>221</td>\n",
       "      <td>2</td>\n",
       "    </tr>\n",
       "    <tr>\n",
       "      <th>2</th>\n",
       "      <td>coronary arterybypass grafting thrombosis ï¬b...</td>\n",
       "      <td>97</td>\n",
       "      <td>2</td>\n",
       "    </tr>\n",
       "    <tr>\n",
       "      <th>3</th>\n",
       "      <td>Solitary plasmacytoma SP of the skull is an u...</td>\n",
       "      <td>95</td>\n",
       "      <td>2</td>\n",
       "    </tr>\n",
       "    <tr>\n",
       "      <th>4</th>\n",
       "      <td>This study aimed to investigate serum matrix ...</td>\n",
       "      <td>239</td>\n",
       "      <td>2</td>\n",
       "    </tr>\n",
       "    <tr>\n",
       "      <th>...</th>\n",
       "      <td>...</td>\n",
       "      <td>...</td>\n",
       "      <td>...</td>\n",
       "    </tr>\n",
       "    <tr>\n",
       "      <th>7565</th>\n",
       "      <td>we report the case of a 24yearold man who pres...</td>\n",
       "      <td>26</td>\n",
       "      <td>0</td>\n",
       "    </tr>\n",
       "    <tr>\n",
       "      <th>7566</th>\n",
       "      <td>among synchronous colorectal cancers scrcs rep...</td>\n",
       "      <td>160</td>\n",
       "      <td>0</td>\n",
       "    </tr>\n",
       "    <tr>\n",
       "      <th>7567</th>\n",
       "      <td>the heterogeneity of cancer cells is generally...</td>\n",
       "      <td>59</td>\n",
       "      <td>0</td>\n",
       "    </tr>\n",
       "    <tr>\n",
       "      <th>7568</th>\n",
       "      <td>\"adipogenesis is the process through which mes...</td>\n",
       "      <td>107</td>\n",
       "      <td>0</td>\n",
       "    </tr>\n",
       "    <tr>\n",
       "      <th>7569</th>\n",
       "      <td>the periparturient period is one of the most c...</td>\n",
       "      <td>2</td>\n",
       "      <td>0</td>\n",
       "    </tr>\n",
       "  </tbody>\n",
       "</table>\n",
       "<p>7570 rows × 3 columns</p>\n",
       "</div>"
      ],
      "text/plain": [
       "                                                 itemID  userID  rating\n",
       "0     Thyroid surgery in  children in a single insti...     168       2\n",
       "1     \" The adopted strategy was the same as that us...     221       2\n",
       "2     coronary arterybypass grafting thrombosis ï¬b...      97       2\n",
       "3      Solitary plasmacytoma SP of the skull is an u...      95       2\n",
       "4      This study aimed to investigate serum matrix ...     239       2\n",
       "...                                                 ...     ...     ...\n",
       "7565  we report the case of a 24yearold man who pres...      26       0\n",
       "7566  among synchronous colorectal cancers scrcs rep...     160       0\n",
       "7567  the heterogeneity of cancer cells is generally...      59       0\n",
       "7568  \"adipogenesis is the process through which mes...     107       0\n",
       "7569  the periparturient period is one of the most c...       2       0\n",
       "\n",
       "[7570 rows x 3 columns]"
      ]
     },
     "execution_count": 11,
     "metadata": {},
     "output_type": "execute_result"
    }
   ],
   "source": [
    "ratings_dict = {\n",
    "    \"itemID\": np.array(df),\n",
    "    \"userID\": topics,\n",
    "    \"rating\": labels,\n",
    "}\n",
    "df_recommender = pd.DataFrame(ratings_dict)\n",
    "df_recommender"
   ]
  },
  {
   "cell_type": "code",
   "execution_count": 12,
   "id": "1ed8d8ed",
   "metadata": {},
   "outputs": [],
   "source": [
    "reader = Reader(rating_scale=(0, 2))\n",
    "data = Dataset.load_from_df(df_recommender[[\"userID\", \"itemID\", \"rating\"]], reader)"
   ]
  },
  {
   "cell_type": "code",
   "execution_count": 13,
   "id": "9da1b7bf",
   "metadata": {},
   "outputs": [
    {
     "name": "stdout",
     "output_type": "stream",
     "text": [
      "Evaluating RMSE, MAE of algorithm SVD on 5 split(s).\n",
      "\n",
      "                  Fold 1  Fold 2  Fold 3  Fold 4  Fold 5  Mean    Std     \n",
      "RMSE (testset)    0.1275  0.1177  0.1121  0.1251  0.1154  0.1196  0.0058  \n",
      "MAE (testset)     0.0840  0.0817  0.0767  0.0827  0.0791  0.0808  0.0026  \n",
      "Fit time          0.04    0.02    0.03    0.03    0.02    0.03    0.01    \n",
      "Test time         0.01    0.00    0.00    0.02    0.02    0.01    0.01    \n"
     ]
    }
   ],
   "source": [
    "algo = SVD()\n",
    "cross_validate(algo, data, cv=5, verbose=True);"
   ]
  },
  {
   "cell_type": "code",
   "execution_count": 14,
   "id": "66ef35af",
   "metadata": {},
   "outputs": [
    {
     "data": {
      "text/plain": [
       "<surprise.prediction_algorithms.matrix_factorization.SVD at 0x20dcf0bdfa0>"
      ]
     },
     "execution_count": 14,
     "metadata": {},
     "output_type": "execute_result"
    }
   ],
   "source": [
    "algo.fit(data.build_full_trainset())"
   ]
  },
  {
   "cell_type": "code",
   "execution_count": 15,
   "id": "58197ea4",
   "metadata": {},
   "outputs": [
    {
     "data": {
      "text/plain": [
       "array([2.0, 2.0, 2.0, ..., 0.0, 0.0, 0.0], dtype=object)"
      ]
     },
     "execution_count": 15,
     "metadata": {},
     "output_type": "execute_result"
    }
   ],
   "source": [
    "a = np.array(data.raw_ratings)\n",
    "a[:, 2]"
   ]
  },
  {
   "cell_type": "code",
   "execution_count": 16,
   "id": "99212328",
   "metadata": {},
   "outputs": [
    {
     "name": "stdout",
     "output_type": "stream",
     "text": [
      "0.7988558717237826\n"
     ]
    }
   ],
   "source": [
    "uid = str(np.array(data.raw_ratings)[:, 0][7569])\n",
    "iid = str(np.array(data.raw_ratings)[:, 1][7569])#str(26)\n",
    "\n",
    "pred = algo.predict(uid, iid, r_ui=None)\n",
    "print(pred.est)"
   ]
  },
  {
   "cell_type": "code",
   "execution_count": null,
   "id": "1004842a",
   "metadata": {},
   "outputs": [],
   "source": []
  },
  {
   "cell_type": "code",
   "execution_count": 17,
   "id": "519cd1e7",
   "metadata": {},
   "outputs": [],
   "source": [
    "y_pred = []\n",
    "for i in range(len(df_recommender)):\n",
    "    uid = str(np.array(data.raw_ratings)[:, 0][i])\n",
    "    iid = str(np.array(data.raw_ratings)[:, 1][i])\n",
    "    y = algo.predict(uid, iid, r_ui=np.array(data.raw_ratings)[:, 2][i])\n",
    "    y_pred.append(y.est)"
   ]
  },
  {
   "cell_type": "code",
   "execution_count": null,
   "id": "2e1564ec",
   "metadata": {},
   "outputs": [],
   "source": []
  },
  {
   "cell_type": "code",
   "execution_count": 17,
   "id": "39d0c186",
   "metadata": {},
   "outputs": [],
   "source": [
    "def normalize(value, min_value, max_value):\n",
    "    return (value - min_value) / (max_value - min_value)\n",
    "\n",
    "def map_to_discrete(normalized_value):\n",
    "    if normalized_value < 1/3:\n",
    "        return 0\n",
    "    elif normalized_value < 2/3:\n",
    "        return 1\n",
    "    else:\n",
    "        return 2"
   ]
  },
  {
   "cell_type": "code",
   "execution_count": 18,
   "id": "e88a86c2",
   "metadata": {},
   "outputs": [],
   "source": [
    "min_val, max_val = min(y_pred), max(y_pred)"
   ]
  },
  {
   "cell_type": "code",
   "execution_count": 19,
   "id": "62c194fb",
   "metadata": {},
   "outputs": [],
   "source": [
    "y_pred0 = []\n",
    "for i in range(len(df_recommender)):\n",
    "    uid = str(np.array(data.raw_ratings)[:, 0][i])\n",
    "    iid = str(np.array(data.raw_ratings)[:, 1][i])\n",
    "    y = algo.predict(uid, iid, r_ui=np.array(data.raw_ratings)[:, 2][i])\n",
    "    \n",
    "    normalized_value = normalize(y.est, min_val, max_val)\n",
    "    discrete_value = map_to_discrete(normalized_value)\n",
    "    \n",
    "    y_pred0.append(discrete_value)"
   ]
  },
  {
   "cell_type": "code",
   "execution_count": 20,
   "id": "ae0f1636",
   "metadata": {},
   "outputs": [
    {
     "data": {
      "text/plain": [
       "0.9519154557463673"
      ]
     },
     "execution_count": 20,
     "metadata": {},
     "output_type": "execute_result"
    }
   ],
   "source": [
    "accuracy_score(y_pred0, labels)"
   ]
  },
  {
   "cell_type": "code",
   "execution_count": 21,
   "id": "f1f58f86",
   "metadata": {},
   "outputs": [],
   "source": [
    "with open('Data/recommender_preds.pickle', 'wb') as f:\n",
    "    pkl.dump(y_pred0, f)\n",
    "    \n",
    "with open(\"Data/recommender_preds.pickle\", \"rb\") as f:\n",
    "    y_pred1 = pkl.load(f)"
   ]
  },
  {
   "cell_type": "code",
   "execution_count": 22,
   "id": "bdee2bf2",
   "metadata": {},
   "outputs": [],
   "source": [
    "#"
   ]
  },
  {
   "cell_type": "code",
   "execution_count": 23,
   "id": "67a898c8",
   "metadata": {},
   "outputs": [],
   "source": [
    "with open(\"Data/graphs.pkl\", \"rb\") as f:\n",
    "    Gs = pkl.load(f)\n",
    "GG = nx.disjoint_union_all(Gs)"
   ]
  },
  {
   "cell_type": "code",
   "execution_count": 24,
   "id": "3e2e6cca",
   "metadata": {},
   "outputs": [],
   "source": [
    "with open(\"Data/combined_graphed.pkl\", \"rb\") as f:\n",
    "    node_vectors_list_cmb = pkl.load(f)\n",
    "\n",
    "with open(\"Data/individual_graphed.pkl\", \"rb\") as f:\n",
    "    node_vectors_list_ind = pkl.load(f)"
   ]
  },
  {
   "cell_type": "code",
   "execution_count": 25,
   "id": "85b3fd83",
   "metadata": {},
   "outputs": [],
   "source": [
    "word_dict = {}\n",
    "i = 0\n",
    "for G in Gs:\n",
    "    for node in list(G.nodes):\n",
    "        word_dict[i] = node\n",
    "        i += 1"
   ]
  },
  {
   "cell_type": "code",
   "execution_count": 26,
   "id": "73ac2c34",
   "metadata": {},
   "outputs": [
    {
     "name": "stdout",
     "output_type": "stream",
     "text": [
      "[88, 76, 91, 90, 117, 125, 94, 106, 188, 203, 182, 170, 167, 183, 203, 45, 144, 185, 182, 161]\n"
     ]
    }
   ],
   "source": [
    "len_each_graph = [len(i) for i in node_vectors_list_ind]\n",
    "print(len_each_graph[:20])"
   ]
  },
  {
   "cell_type": "code",
   "execution_count": 27,
   "id": "87a859bd",
   "metadata": {},
   "outputs": [
    {
     "data": {
      "text/plain": [
       "1009270"
      ]
     },
     "execution_count": 27,
     "metadata": {},
     "output_type": "execute_result"
    }
   ],
   "source": [
    "vec_list = np.array(node_vectors_list_cmb[0])\n",
    "len(vec_list)"
   ]
  },
  {
   "cell_type": "code",
   "execution_count": 28,
   "id": "3141c7c8",
   "metadata": {},
   "outputs": [
    {
     "data": {
      "text/html": [
       "<style>#sk-container-id-1 {color: black;background-color: white;}#sk-container-id-1 pre{padding: 0;}#sk-container-id-1 div.sk-toggleable {background-color: white;}#sk-container-id-1 label.sk-toggleable__label {cursor: pointer;display: block;width: 100%;margin-bottom: 0;padding: 0.3em;box-sizing: border-box;text-align: center;}#sk-container-id-1 label.sk-toggleable__label-arrow:before {content: \"▸\";float: left;margin-right: 0.25em;color: #696969;}#sk-container-id-1 label.sk-toggleable__label-arrow:hover:before {color: black;}#sk-container-id-1 div.sk-estimator:hover label.sk-toggleable__label-arrow:before {color: black;}#sk-container-id-1 div.sk-toggleable__content {max-height: 0;max-width: 0;overflow: hidden;text-align: left;background-color: #f0f8ff;}#sk-container-id-1 div.sk-toggleable__content pre {margin: 0.2em;color: black;border-radius: 0.25em;background-color: #f0f8ff;}#sk-container-id-1 input.sk-toggleable__control:checked~div.sk-toggleable__content {max-height: 200px;max-width: 100%;overflow: auto;}#sk-container-id-1 input.sk-toggleable__control:checked~label.sk-toggleable__label-arrow:before {content: \"▾\";}#sk-container-id-1 div.sk-estimator input.sk-toggleable__control:checked~label.sk-toggleable__label {background-color: #d4ebff;}#sk-container-id-1 div.sk-label input.sk-toggleable__control:checked~label.sk-toggleable__label {background-color: #d4ebff;}#sk-container-id-1 input.sk-hidden--visually {border: 0;clip: rect(1px 1px 1px 1px);clip: rect(1px, 1px, 1px, 1px);height: 1px;margin: -1px;overflow: hidden;padding: 0;position: absolute;width: 1px;}#sk-container-id-1 div.sk-estimator {font-family: monospace;background-color: #f0f8ff;border: 1px dotted black;border-radius: 0.25em;box-sizing: border-box;margin-bottom: 0.5em;}#sk-container-id-1 div.sk-estimator:hover {background-color: #d4ebff;}#sk-container-id-1 div.sk-parallel-item::after {content: \"\";width: 100%;border-bottom: 1px solid gray;flex-grow: 1;}#sk-container-id-1 div.sk-label:hover label.sk-toggleable__label {background-color: #d4ebff;}#sk-container-id-1 div.sk-serial::before {content: \"\";position: absolute;border-left: 1px solid gray;box-sizing: border-box;top: 0;bottom: 0;left: 50%;z-index: 0;}#sk-container-id-1 div.sk-serial {display: flex;flex-direction: column;align-items: center;background-color: white;padding-right: 0.2em;padding-left: 0.2em;position: relative;}#sk-container-id-1 div.sk-item {position: relative;z-index: 1;}#sk-container-id-1 div.sk-parallel {display: flex;align-items: stretch;justify-content: center;background-color: white;position: relative;}#sk-container-id-1 div.sk-item::before, #sk-container-id-1 div.sk-parallel-item::before {content: \"\";position: absolute;border-left: 1px solid gray;box-sizing: border-box;top: 0;bottom: 0;left: 50%;z-index: -1;}#sk-container-id-1 div.sk-parallel-item {display: flex;flex-direction: column;z-index: 1;position: relative;background-color: white;}#sk-container-id-1 div.sk-parallel-item:first-child::after {align-self: flex-end;width: 50%;}#sk-container-id-1 div.sk-parallel-item:last-child::after {align-self: flex-start;width: 50%;}#sk-container-id-1 div.sk-parallel-item:only-child::after {width: 0;}#sk-container-id-1 div.sk-dashed-wrapped {border: 1px dashed gray;margin: 0 0.4em 0.5em 0.4em;box-sizing: border-box;padding-bottom: 0.4em;background-color: white;}#sk-container-id-1 div.sk-label label {font-family: monospace;font-weight: bold;display: inline-block;line-height: 1.2em;}#sk-container-id-1 div.sk-label-container {text-align: center;}#sk-container-id-1 div.sk-container {/* jupyter's `normalize.less` sets `[hidden] { display: none; }` but bootstrap.min.css set `[hidden] { display: none !important; }` so we also need the `!important` here to be able to override the default hidden behavior on the sphinx rendered scikit-learn.org. See: https://github.com/scikit-learn/scikit-learn/issues/21755 */display: inline-block !important;position: relative;}#sk-container-id-1 div.sk-text-repr-fallback {display: none;}</style><div id=\"sk-container-id-1\" class=\"sk-top-container\"><div class=\"sk-text-repr-fallback\"><pre>GaussianNB()</pre><b>In a Jupyter environment, please rerun this cell to show the HTML representation or trust the notebook. <br />On GitHub, the HTML representation is unable to render, please try loading this page with nbviewer.org.</b></div><div class=\"sk-container\" hidden><div class=\"sk-item\"><div class=\"sk-estimator sk-toggleable\"><input class=\"sk-toggleable__control sk-hidden--visually\" id=\"sk-estimator-id-1\" type=\"checkbox\" checked><label for=\"sk-estimator-id-1\" class=\"sk-toggleable__label sk-toggleable__label-arrow\">GaussianNB</label><div class=\"sk-toggleable__content\"><pre>GaussianNB()</pre></div></div></div></div></div>"
      ],
      "text/plain": [
       "GaussianNB()"
      ]
     },
     "execution_count": 28,
     "metadata": {},
     "output_type": "execute_result"
    }
   ],
   "source": [
    "labels_extended = []\n",
    "for i, l in enumerate(len_each_graph):\n",
    "    labels_extended.extend([labels[i]]*l)\n",
    "X_train, X_test, y_train, y_test = train_test_split(\n",
    "    vec_list, labels_extended, test_size=0.1\n",
    ")\n",
    "#model = LinearSVC()\n",
    "model = GaussianNB()\n",
    "model.fit(X_train, y_train)"
   ]
  },
  {
   "cell_type": "code",
   "execution_count": 29,
   "id": "7251f9a0",
   "metadata": {},
   "outputs": [
    {
     "name": "stdout",
     "output_type": "stream",
     "text": [
      "Accuracy: 0.48206129182478424\n",
      "F1 Score: 0.5303857556757521\n"
     ]
    }
   ],
   "source": [
    "y_pred = model.predict(X_test)\n",
    "accuray = accuracy_score(y_pred, y_test)\n",
    "f1 = f1_score(y_pred, y_test, average=\"weighted\")\n",
    "\n",
    "print(\"Accuracy:\", accuray)\n",
    "print(\"F1 Score:\", f1)"
   ]
  },
  {
   "cell_type": "code",
   "execution_count": 30,
   "id": "746ac4f6",
   "metadata": {},
   "outputs": [],
   "source": [
    "y_pred = model.predict(vec_list)"
   ]
  },
  {
   "cell_type": "code",
   "execution_count": 31,
   "id": "d78981b1",
   "metadata": {},
   "outputs": [],
   "source": [
    "#"
   ]
  },
  {
   "cell_type": "code",
   "execution_count": 36,
   "id": "1707e073",
   "metadata": {},
   "outputs": [],
   "source": [
    "inconsistent_words = []\n",
    "for i in differences_index:\n",
    "    inconsistent_words.append(word_dict[i])"
   ]
  },
  {
   "cell_type": "code",
   "execution_count": null,
   "id": "166f2736",
   "metadata": {},
   "outputs": [],
   "source": [
    "import wordcloud\n",
    "wc = wordcloud.WordCloud(background_color='black', max_words=50, max_font_size=45)\n",
    "wc = wc.generate('_'.join(inconsistent_words).replace('_', ' '))\n",
    "fig = plt.figure(num=1)\n",
    "plt.axis('off')\n",
    "plt.imshow(wc, cmap=None)\n",
    "plt.show()"
   ]
  },
  {
   "cell_type": "code",
   "execution_count": 25,
   "id": "03bc2ee5",
   "metadata": {},
   "outputs": [],
   "source": [
    "#"
   ]
  },
  {
   "cell_type": "code",
   "execution_count": 33,
   "id": "74831c6c",
   "metadata": {},
   "outputs": [],
   "source": [
    "topics_extended = []\n",
    "for i, l in enumerate(len_each_graph):\n",
    "    topics_extended.extend([y_pred0[i]]*l)"
   ]
  },
  {
   "cell_type": "code",
   "execution_count": 34,
   "id": "8f6c277d",
   "metadata": {},
   "outputs": [
    {
     "data": {
      "text/plain": [
       "1009270"
      ]
     },
     "execution_count": 34,
     "metadata": {},
     "output_type": "execute_result"
    }
   ],
   "source": [
    "len(topics_extended)"
   ]
  },
  {
   "cell_type": "code",
   "execution_count": 122,
   "id": "643bcfa8",
   "metadata": {},
   "outputs": [
    {
     "data": {
      "text/plain": [
       "566347"
      ]
     },
     "execution_count": 122,
     "metadata": {},
     "output_type": "execute_result"
    }
   ],
   "source": [
    "differences_index = []\n",
    "for i, l in enumerate(y_pred):\n",
    "    if l != topics_extended[i]:\n",
    "        differences_index.append(i)\n",
    "len(differences_index)"
   ]
  },
  {
   "cell_type": "code",
   "execution_count": 124,
   "id": "6e65ab33",
   "metadata": {},
   "outputs": [],
   "source": [
    "alpha = 0.7\n",
    "differences_index = sample(differences_index, round(len(differences_index)*alpha))"
   ]
  },
  {
   "cell_type": "code",
   "execution_count": 125,
   "id": "e9ba3f86",
   "metadata": {},
   "outputs": [],
   "source": [
    "vec_list_reduced = np.delete(vec_list, differences_index, axis=0)\n",
    "bert_reduced = np.delete(topics_extended, differences_index)\n",
    "labels_extended_reduced = np.delete(labels_extended, differences_index)"
   ]
  },
  {
   "cell_type": "code",
   "execution_count": 126,
   "id": "f6b383f8",
   "metadata": {},
   "outputs": [],
   "source": [
    "len_each_graph_new = np.array(len_each_graph.copy())\n",
    "cumsum_len_each_graph = np.cumsum(len_each_graph)\n",
    "\n",
    "decrements = np.zeros_like(len_each_graph_new)\n",
    "\n",
    "indices = np.digitize(differences_index, cumsum_len_each_graph)\n",
    "\n",
    "np.add.at(decrements, indices, -1)\n",
    "\n",
    "len_each_graph_new += decrements\n"
   ]
  },
  {
   "cell_type": "code",
   "execution_count": 131,
   "id": "a6d9e8a5",
   "metadata": {},
   "outputs": [
    {
     "data": {
      "text/plain": [
       "(3, 7570, 396443)"
      ]
     },
     "execution_count": 131,
     "metadata": {},
     "output_type": "execute_result"
    }
   ],
   "source": [
    "len(len_each_graph_new[len_each_graph_new==0]), len(len_each_graph), len(differences_index)"
   ]
  },
  {
   "cell_type": "code",
   "execution_count": 128,
   "id": "55f23410",
   "metadata": {},
   "outputs": [],
   "source": [
    "#len_each_graph_new = len_each_graph.copy()\n",
    "#cumsum_len_each_graph = np.cumsum(len_each_graph)\n",
    "#for i in differences_index:\n",
    "#    if i<cumsum_len_each_graph[0]:\n",
    "#        len_each_graph_new[0] -= 1\n",
    "#    else:\n",
    "#       for j in range(0, len(len_each_graph)-1):\n",
    "#            if i>=cumsum_len_each_graph[j] and i<cumsum_len_each_graph[j+1]:\n",
    "#                len_each_graph_new[j+1] -= 1"
   ]
  },
  {
   "cell_type": "code",
   "execution_count": 129,
   "id": "4df30ae7",
   "metadata": {},
   "outputs": [
    {
     "data": {
      "text/html": [
       "<style>#sk-container-id-10 {color: black;background-color: white;}#sk-container-id-10 pre{padding: 0;}#sk-container-id-10 div.sk-toggleable {background-color: white;}#sk-container-id-10 label.sk-toggleable__label {cursor: pointer;display: block;width: 100%;margin-bottom: 0;padding: 0.3em;box-sizing: border-box;text-align: center;}#sk-container-id-10 label.sk-toggleable__label-arrow:before {content: \"▸\";float: left;margin-right: 0.25em;color: #696969;}#sk-container-id-10 label.sk-toggleable__label-arrow:hover:before {color: black;}#sk-container-id-10 div.sk-estimator:hover label.sk-toggleable__label-arrow:before {color: black;}#sk-container-id-10 div.sk-toggleable__content {max-height: 0;max-width: 0;overflow: hidden;text-align: left;background-color: #f0f8ff;}#sk-container-id-10 div.sk-toggleable__content pre {margin: 0.2em;color: black;border-radius: 0.25em;background-color: #f0f8ff;}#sk-container-id-10 input.sk-toggleable__control:checked~div.sk-toggleable__content {max-height: 200px;max-width: 100%;overflow: auto;}#sk-container-id-10 input.sk-toggleable__control:checked~label.sk-toggleable__label-arrow:before {content: \"▾\";}#sk-container-id-10 div.sk-estimator input.sk-toggleable__control:checked~label.sk-toggleable__label {background-color: #d4ebff;}#sk-container-id-10 div.sk-label input.sk-toggleable__control:checked~label.sk-toggleable__label {background-color: #d4ebff;}#sk-container-id-10 input.sk-hidden--visually {border: 0;clip: rect(1px 1px 1px 1px);clip: rect(1px, 1px, 1px, 1px);height: 1px;margin: -1px;overflow: hidden;padding: 0;position: absolute;width: 1px;}#sk-container-id-10 div.sk-estimator {font-family: monospace;background-color: #f0f8ff;border: 1px dotted black;border-radius: 0.25em;box-sizing: border-box;margin-bottom: 0.5em;}#sk-container-id-10 div.sk-estimator:hover {background-color: #d4ebff;}#sk-container-id-10 div.sk-parallel-item::after {content: \"\";width: 100%;border-bottom: 1px solid gray;flex-grow: 1;}#sk-container-id-10 div.sk-label:hover label.sk-toggleable__label {background-color: #d4ebff;}#sk-container-id-10 div.sk-serial::before {content: \"\";position: absolute;border-left: 1px solid gray;box-sizing: border-box;top: 0;bottom: 0;left: 50%;z-index: 0;}#sk-container-id-10 div.sk-serial {display: flex;flex-direction: column;align-items: center;background-color: white;padding-right: 0.2em;padding-left: 0.2em;position: relative;}#sk-container-id-10 div.sk-item {position: relative;z-index: 1;}#sk-container-id-10 div.sk-parallel {display: flex;align-items: stretch;justify-content: center;background-color: white;position: relative;}#sk-container-id-10 div.sk-item::before, #sk-container-id-10 div.sk-parallel-item::before {content: \"\";position: absolute;border-left: 1px solid gray;box-sizing: border-box;top: 0;bottom: 0;left: 50%;z-index: -1;}#sk-container-id-10 div.sk-parallel-item {display: flex;flex-direction: column;z-index: 1;position: relative;background-color: white;}#sk-container-id-10 div.sk-parallel-item:first-child::after {align-self: flex-end;width: 50%;}#sk-container-id-10 div.sk-parallel-item:last-child::after {align-self: flex-start;width: 50%;}#sk-container-id-10 div.sk-parallel-item:only-child::after {width: 0;}#sk-container-id-10 div.sk-dashed-wrapped {border: 1px dashed gray;margin: 0 0.4em 0.5em 0.4em;box-sizing: border-box;padding-bottom: 0.4em;background-color: white;}#sk-container-id-10 div.sk-label label {font-family: monospace;font-weight: bold;display: inline-block;line-height: 1.2em;}#sk-container-id-10 div.sk-label-container {text-align: center;}#sk-container-id-10 div.sk-container {/* jupyter's `normalize.less` sets `[hidden] { display: none; }` but bootstrap.min.css set `[hidden] { display: none !important; }` so we also need the `!important` here to be able to override the default hidden behavior on the sphinx rendered scikit-learn.org. See: https://github.com/scikit-learn/scikit-learn/issues/21755 */display: inline-block !important;position: relative;}#sk-container-id-10 div.sk-text-repr-fallback {display: none;}</style><div id=\"sk-container-id-10\" class=\"sk-top-container\"><div class=\"sk-text-repr-fallback\"><pre>GaussianNB()</pre><b>In a Jupyter environment, please rerun this cell to show the HTML representation or trust the notebook. <br />On GitHub, the HTML representation is unable to render, please try loading this page with nbviewer.org.</b></div><div class=\"sk-container\" hidden><div class=\"sk-item\"><div class=\"sk-estimator sk-toggleable\"><input class=\"sk-toggleable__control sk-hidden--visually\" id=\"sk-estimator-id-10\" type=\"checkbox\" checked><label for=\"sk-estimator-id-10\" class=\"sk-toggleable__label sk-toggleable__label-arrow\">GaussianNB</label><div class=\"sk-toggleable__content\"><pre>GaussianNB()</pre></div></div></div></div></div>"
      ],
      "text/plain": [
       "GaussianNB()"
      ]
     },
     "execution_count": 129,
     "metadata": {},
     "output_type": "execute_result"
    }
   ],
   "source": [
    "X_train_r, X_test_r, y_train_r, y_test_r = train_test_split(\n",
    "    vec_list_reduced, labels_extended_reduced, test_size=0.3\n",
    ")\n",
    "#model_r = LinearSVC()\n",
    "model_r = GaussianNB()\n",
    "model_r.fit(X_train_r, y_train_r)"
   ]
  },
  {
   "cell_type": "code",
   "execution_count": 130,
   "id": "22f5d260",
   "metadata": {},
   "outputs": [
    {
     "name": "stdout",
     "output_type": "stream",
     "text": [
      "Accuracy: 0.7166370227741244\n",
      "F1 Score: 0.7403373322124387\n"
     ]
    }
   ],
   "source": [
    "y_pred_r = model_r.predict(X_test_r)\n",
    "accuray = accuracy_score(y_pred_r, y_test_r)\n",
    "f1 = f1_score(y_pred_r, y_test_r, average=\"weighted\")\n",
    "\n",
    "print(\"Accuracy:\", accuray)\n",
    "print(\"F1 Score:\", f1)"
   ]
  },
  {
   "cell_type": "code",
   "execution_count": 97,
   "id": "a8e45d04",
   "metadata": {},
   "outputs": [
    {
     "data": {
      "image/png": "[encoded data removed]",
      "text/plain": [
       "<Figure size 700x700 with 1 Axes>"
      ]
     },
     "metadata": {},
     "output_type": "display_data"
    }
   ],
   "source": [
    "colors = np.ones(len(vec_list))\n",
    "colors[differences_index] = 0\n",
    "\n",
    "transform = TSNE  # PCA\n",
    "\n",
    "trans = PCA(n_components=2)\n",
    "node_embeddings_2d = trans.fit_transform(vec_list)\n",
    "alpha = 0.7\n",
    "\n",
    "plt.figure(figsize=(7, 7))\n",
    "plt.axes().set(aspect=\"equal\")\n",
    "plt.scatter(\n",
    "    node_embeddings_2d[:, 0],\n",
    "    node_embeddings_2d[:, 1],\n",
    "    c=colors,\n",
    "    alpha=alpha,\n",
    ")\n",
    "plt.title(\"{} visualization of node embeddings\".format(transform.__name__))\n",
    "plt.show()"
   ]
  },
  {
   "cell_type": "code",
   "execution_count": null,
   "id": "185867b6",
   "metadata": {},
   "outputs": [],
   "source": []
  },
  {
   "cell_type": "code",
   "execution_count": 1,
   "id": "91b68a98",
   "metadata": {},
   "outputs": [],
   "source": [
    "# remove top alpha percents of the inconsistent data and not only random"
   ]
  },
  {
   "cell_type": "code",
   "execution_count": null,
   "id": "ed8522f1",
   "metadata": {},
   "outputs": [],
   "source": []
  },
  {
   "cell_type": "code",
   "execution_count": null,
   "id": "8edb1f16",
   "metadata": {},
   "outputs": [],
   "source": []
  },
  {
   "cell_type": "code",
   "execution_count": null,
   "id": "1735fd6f",
   "metadata": {},
   "outputs": [],
   "source": []
  },
  {
   "cell_type": "code",
   "execution_count": null,
   "id": "c5b490e1",
   "metadata": {},
   "outputs": [],
   "source": []
  },
  {
   "cell_type": "code",
   "execution_count": 62,
   "id": "42347ccf",
   "metadata": {},
   "outputs": [],
   "source": [
    "# t-test"
   ]
  },
  {
   "cell_type": "code",
   "execution_count": 98,
   "id": "3fe4489d",
   "metadata": {},
   "outputs": [],
   "source": [
    "res_accuracy = []\n",
    "res_f1 = []\n",
    "for i in range(30):\n",
    "    deleted_indices = np.random.randint(len(vec_list), size=len(differences_index))\n",
    "    #vec_list_reduced = np.array([l for i, l in enumerate(vec_list) if i not in deleted_indices])\n",
    "    vec_list_reduced = np.delete(vec_list, deleted_indices, axis=0)\n",
    "    labels_extended_reduced = np.delete(labels_extended, deleted_indices)\n",
    "    \n",
    "    X_train_r, X_test_r, y_train_r, y_test_r = train_test_split(\n",
    "        vec_list_reduced, labels_extended_reduced, test_size=0.3\n",
    "    )\n",
    "    \n",
    "    model_r = GaussianNB()\n",
    "    model_r.fit(X_train_r, y_train_r)\n",
    "    \n",
    "    y_pred_r = model_r.predict(X_test_r)\n",
    "    accuray = accuracy_score(y_pred_r, y_test_r)\n",
    "    f1 = f1_score(y_pred_r, y_test_r, average=\"weighted\")\n",
    "    \n",
    "    res_accuracy.append(accuray)\n",
    "    res_f1.append(f1)"
   ]
  },
  {
   "cell_type": "code",
   "execution_count": 99,
   "id": "80337458",
   "metadata": {},
   "outputs": [
    {
     "name": "stdout",
     "output_type": "stream",
     "text": [
      "T statistic for accuracy: -435.54780980029426\n",
      "P-value for accuracy: 6.899190169965849e-57\n",
      "T statistic for f1: -264.7846025525378\n",
      "P-value for f1: 1.274557919518201e-50\n",
      "Reject the null hypothesis; there is a significant difference between the sample mean and the hypothesized population mean.\n"
     ]
    }
   ],
   "source": [
    "t_stat_accuracy, p_value_accuracy = stats.ttest_1samp(res_accuracy, 0.57)\n",
    "t_stat_f1, p_value_f1 = stats.ttest_1samp(res_f1, 0.58)\n",
    "print(\"T statistic for accuracy:\", t_stat_accuracy)\n",
    "print(\"P-value for accuracy:\", p_value_accuracy)\n",
    "print(\"T statistic for f1:\", t_stat_f1)\n",
    "print(\"P-value for f1:\", p_value_f1)\n",
    "\n",
    "# Setting significance level\n",
    "alpha = 0.05\n",
    "\n",
    "if p_value_accuracy < alpha and p_value_f1 < alpha:\n",
    "    print(\"Reject the null hypothesis; there is a significant difference between the sample mean and the hypothesized population mean.\")\n",
    "else:\n",
    "    print(\"Fail to reject the null hypothesis; there is no significant difference between the sample mean and the hypothesized population mean.\")"
   ]
  },
  {
   "cell_type": "code",
   "execution_count": null,
   "id": "e6b42d25",
   "metadata": {},
   "outputs": [],
   "source": []
  }
 ],
 "metadata": {
  "kernelspec": {
   "display_name": "Python 3 (ipykernel)",
   "language": "python",
   "name": "python3"
  },
  "language_info": {
   "codemirror_mode": {
    "name": "ipython",
    "version": 3
   },
   "file_extension": ".py",
   "mimetype": "text/x-python",
   "name": "python",
   "nbconvert_exporter": "python",
   "pygments_lexer": "ipython3",
   "version": "3.9.7"
  }
 },
 "nbformat": 4,
 "nbformat_minor": 5
}
